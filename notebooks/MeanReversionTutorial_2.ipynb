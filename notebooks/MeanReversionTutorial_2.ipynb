{
  "nbformat": 4,
  "nbformat_minor": 0,
  "metadata": {
    "colab": {
      "name": "MeanReversionTutorial_2_j.ipynb",
      "version": "0.3.2",
      "views": {},
      "default_view": {},
      "provenance": [
        {
          "file_id": "1dEjjPPpJ6FVzgZaqp1EjYENSwE7Q9TU8",
          "timestamp": 1521555797099
        }
      ]
    },
    "kernelspec": {
      "name": "python2",
      "display_name": "Python 2"
    }
  },
  "cells": [
    {
      "metadata": {
        "id": "EVVS23TJyeDW",
        "colab_type": "text"
      },
      "cell_type": "markdown",
      "source": [
        "# Mean Reversion: How to find it?\n",
        "\n",
        "Paraphrasing Peter Drucker's *\"you can't manage what you can't measure\"*:\n",
        "## If you can't test, you can't find it ... \n",
        "\n",
        "Before finding out how to find the signals in the whole financial spectrum, it would help to know what available tests are out there to identify whether a signal is mean reverting or not.\n",
        "\n",
        "In the previous [post](https://www.markov.finance/single-post/2018/03/20/Educational-Series-Mean-Reversion) I introduced the OU and the AR(1) processes. Remember, AR(1) uses assumptions that simplify the math required to solve the equations. While we have not used AR(1) to calibrate the mean reverting parameters of a (suspected) mean reverting series, most of the tests available in the open source universe deal with AR(1) processes, like:\n",
        "* Hurst exponent,\n",
        "* Augmented Dickey-Fuller test,\n",
        "I do not want to rewrite the explanation, as you can find it in [Basics of Statistical Mean Reversion Testing](https://www.quantstart.com/articles/Basics-of-Statistical-Mean-Reversion-Testing) [BSMRT], but just for fun I will apply it to our USD 2-5-10 example instead of the typical Google/Apple pairs.\n",
        "\n",
        "**Warning:** Blindly using statistics can be harmful for your health. Most statistics come with a list of side effects that appear when the 'small print' in the label is ignored. My goal in the following lines is to use them to help us find mean reverting signals, but only as a part of more fundamental analysis. If you use them without an existing background you might end up in the land of [spurious correlations](http://www.tylervigen.com/spurious-correlations) where per capita consumption of chicken correlates with total US crude imports. Statistics tests have strong assumption on the input data which you should be aware (if you were looking for a fully non-human intervention method). For starters, all the tests below assume AR(1) time series - meaning the $\\Delta t$ between data points is constant, but we are using time series with business days where some data points have a $\\Delta t$ of 3 days instead of 1 day.\n",
        "\n",
        "Below, I load the whole term structure os US rates, and then compute the 2-5-10 fly with 50/50 weights: \n",
        "\n"
      ]
    },
    {
      "metadata": {
        "id": "YRS7HOt8ydPG",
        "colab_type": "code",
        "colab": {
          "autoexec": {
            "startup": false,
            "wait_interval": 0
          }
        },
        "cellView": "code"
      },
      "cell_type": "code",
      "source": [
        "#@title Default title text\n",
        "# -*- coding: utf-8 -*-\n",
        "\n",
        "# In this section I add the initial libraries required for this tutorial\n",
        "# 'requests': allow HTTP-post API calls\n",
        "import requests\n",
        "# 'json':     to format as json calls to API\n",
        "import json \n",
        "# 'pandas':   to plot the timeseries\n",
        "import pandas as pd\n",
        "# 'datetime': to convert different date formats\n",
        "import datetime as dt\n",
        "import numpy as np\n",
        "import matplotlib.pyplot as plt\n",
        "%matplotlib inline\n",
        "import time\n",
        "\n",
        "# defining the api-endpoint \n",
        "API_ENDPOINT = \"https://markovsimulator.azurewebsites.net/api/MarkovCalibrator_01?code=UFYL9CcFRERnVbZJ3ELdRRY7u59vD3BgONzaGLNEOekTfKf0Ug9Bfw==\"\n",
        "\n",
        "# Treasury rates: we can download them from Quandl\n",
        "QUAND_TS = \"https://www.quandl.com/api/v3/datasets/USTREASURY/YIELD.json?api_key=o6YKGjyDcseE3LFKrSK3\"\n",
        "\n",
        "\n",
        "# Call Quandl to get all the data\n",
        "q = requests.get(url = QUAND_TS)\n",
        "q_json = q.json() \n",
        "q_data = q_json['dataset']['data']\n",
        "\n",
        "# Compute derived series from Quandl Data\n",
        "dates = []\n",
        "values = []\n",
        "q_len = len(q_data)\n",
        "column_len = len(q_data[0])\n",
        "column = column_len-1\n",
        "columns = q_json['dataset']['column_names']\n",
        "#print (columns)\n",
        "\n",
        "\n",
        "# The following could be easily done using Quandl's\n",
        "# python API - but I keep it the 'hard way' to allow\n",
        "# compatibility with Google Colaboratory\n",
        "df_rates = pd.DataFrame.from_records(q_data, columns = columns)\n",
        "df_rates['Date'] = pd.to_datetime(df_rates['Date'])\n",
        "df_rates.set_index('Date', inplace=True)\n",
        "#df_rates.plot()\n"
      ],
      "execution_count": 0,
      "outputs": []
    },
    {
      "metadata": {
        "id": "ByC83D4E3HwP",
        "colab_type": "code",
        "colab": {
          "autoexec": {
            "startup": false,
            "wait_interval": 0
          },
          "base_uri": "https://localhost:8080/",
          "height": 353
        },
        "outputId": "3358c00c-cf2a-43ba-dbd9-c9119ac13b21",
        "executionInfo": {
          "status": "ok",
          "timestamp": 1524646080110,
          "user_tz": 0,
          "elapsed": 473,
          "user": {
            "displayName": "GE Lr",
            "photoUrl": "https://lh3.googleusercontent.com/a/default-user=s128",
            "userId": "102764421838822582009"
          }
        }
      },
      "cell_type": "code",
      "source": [
        "\n",
        "\n",
        "\n",
        "# columns names: [\"Date\",\"1 MO\",\"3 MO\",\"6 MO\",\"1 YR\",\"2 YR\",\"3 YR\",\"5 YR\",\"7 YR\",\"10 YR\",\"20 YR\",\"30 YR\"]\n",
        "# as the index start from 0, columns 2,5 and 10 are:\n",
        "cols = [5, 7, 9]\n",
        "\n",
        "columns_fly = [columns[i] for i in cols]\n",
        "TimeSeries = df_rates[columns_fly]\n",
        "\n",
        "# I use this line to keep each weight linked to the name of the maturity\n",
        "Weights = pd.DataFrame([-1, 2, -1], index = TimeSeries.columns)\n",
        "print (Weights)\n",
        "\n",
        "# Now all I have to is the 'dot' product of Weights and TimeSeries\n",
        "butterfly_ts = (TimeSeries.dot(Weights)).dropna()\n",
        "butterfly_ts.plot()\n"
      ],
      "execution_count": 2,
      "outputs": [
        {
          "output_type": "stream",
          "text": [
            "       0\n",
            "2 YR  -1\n",
            "5 YR   2\n",
            "10 YR -1\n"
          ],
          "name": "stdout"
        },
        {
          "output_type": "execute_result",
          "data": {
            "text/plain": [
              "<matplotlib.axes._subplots.AxesSubplot at 0x7f546ad13810>"
            ]
          },
          "metadata": {
            "tags": []
          },
          "execution_count": 2
        },
        {
          "output_type": "display_data",
          "data": {
            "image/png": "[encoded data removed]",
            "text/plain": [
              "<matplotlib.figure.Figure at 0x7f546ad13290>"
            ]
          },
          "metadata": {
            "tags": []
          }
        }
      ]
    },
    {
      "metadata": {
        "id": "ZGc4wk6A32qA",
        "colab_type": "text"
      },
      "cell_type": "markdown",
      "source": [
        "### Hurst exponent in practice\n",
        "I'll quote from the [[BSMRT]](https://www.quantstart.com/articles/Basics-of-Statistical-Mean-Reversion-Testing) blog I mentioned:\n",
        "\n",
        "\n",
        "> A time series can then be characterised in the following manner:\n",
        "* $H<0.5H<0.5$ - The time series is mean reverting\n",
        "* $H=0.5H=0.5$ - The time series is a Geometric Brownian Motion\n",
        "* $H>0.5H>0.5$ - The time series is trending\n",
        "\n",
        ">In addition to characterisation of the time series the Hurst Exponent also describes the extent to which a series behaves in the manner categorised. For instance, a value of HH near 0 is a highly mean reverting series, while for HH near 1 the series is strongly trending.\n",
        "\n",
        "\n",
        "Lets compute the Hurst parameters with python:\n"
      ]
    },
    {
      "metadata": {
        "id": "23abicIZ2fsV",
        "colab_type": "code",
        "colab": {
          "autoexec": {
            "startup": false,
            "wait_interval": 0
          },
          "base_uri": "https://localhost:8080/",
          "height": 34
        },
        "outputId": "03df825c-029a-4153-cb5a-0881cb2dfe39",
        "executionInfo": {
          "status": "ok",
          "timestamp": 1524646080393,
          "user_tz": 0,
          "elapsed": 224,
          "user": {
            "displayName": "GE Lr",
            "photoUrl": "https://lh3.googleusercontent.com/a/default-user=s128",
            "userId": "102764421838822582009"
          }
        }
      },
      "cell_type": "code",
      "source": [
        "from numpy import cumsum, log, polyfit, sqrt, std, subtract\n",
        "from numpy.random import randn\n",
        "\n",
        "def hurst(ts):\n",
        "\t\"\"\"Returns the Hurst Exponent of the time series vector ts\"\"\"\n",
        "\t# Create the range of lag values\n",
        "\tlags = range(2, 100)\n",
        "\n",
        "\t# Calculate the array of the variances of the lagged differences\n",
        "\ttau = [sqrt(std(subtract(ts[lag:], ts[:-lag]))) for lag in lags]\n",
        "\n",
        "\t# Use a linear fit to estimate the Hurst Exponent\n",
        "\tpoly = polyfit(log(lags), log(tau), 1)\n",
        "\n",
        "\t# Return the Hurst exponent from the polyfit output\n",
        "\treturn poly[0]*2.0\n",
        "\n",
        "print (hurst(butterfly_ts))"
      ],
      "execution_count": 3,
      "outputs": [
        {
          "output_type": "stream",
          "text": [
            "[0.43678227]\n"
          ],
          "name": "stdout"
        }
      ]
    },
    {
      "metadata": {
        "id": "WWnQCtWxIDOZ",
        "colab_type": "text"
      },
      "cell_type": "markdown",
      "source": [
        "when I computed the result it was 0.43688, less than 0.5, and indicating the signal is mean reverting. However, it does not seem to be _very_ mean reverting as we would have preferred for it to be closer to 0. \n",
        "\n",
        "### Augmented Dickey-Fuller in practice\n"
      ]
    },
    {
      "metadata": {
        "id": "9sw_8rXO4uBV",
        "colab_type": "code",
        "colab": {
          "autoexec": {
            "startup": false,
            "wait_interval": 0
          },
          "base_uri": "https://localhost:8080/",
          "height": 88
        },
        "outputId": "905cc5b2-db27-4ef9-edad-1d457bf8d191",
        "executionInfo": {
          "status": "ok",
          "timestamp": 1524646080738,
          "user_tz": 0,
          "elapsed": 247,
          "user": {
            "displayName": "GE Lr",
            "photoUrl": "https://lh3.googleusercontent.com/a/default-user=s128",
            "userId": "102764421838822582009"
          }
        }
      },
      "cell_type": "code",
      "source": [
        "# Import the Time Series library\n",
        "import statsmodels.tsa.stattools as ts\n",
        "\n",
        "# Import Datetime\n",
        "from datetime import datetime\n",
        "\n",
        "# Output the results of the Augmented Dickey-Fuller test for Google\n",
        "# with a lag order value of 1\n",
        "print (ts.adfuller(butterfly_ts[0], 1))\n"
      ],
      "execution_count": 4,
      "outputs": [
        {
          "output_type": "stream",
          "text": [
            "(-4.244937962739178, 0.0005525286238957062, 1, 7082, {'5%': -2.8619482037068686, '1%': -3.43127370401273, '10%': -2.5669872827787867}, -28928.342007824496)\n"
          ],
          "name": "stdout"
        },
        {
          "output_type": "stream",
          "text": [
            "/usr/local/lib/python2.7/dist-packages/statsmodels/compat/pandas.py:56: FutureWarning: The pandas.core.datetools module is deprecated and will be removed in a future version. Please use the pandas.tseries module instead.\n",
            "  from pandas.core import datetools\n"
          ],
          "name": "stderr"
        }
      ]
    },
    {
      "metadata": {
        "id": "g8iT57ro5Pya",
        "colab_type": "text"
      },
      "cell_type": "markdown",
      "source": [
        "The first value is the calculated test-statistic, while the second value is the p-value. The fourth is the number of data points in the sample. The fifth value, the dictionary, contains the critical values of the test-statistic at the 1, 5 and 10 percent values respectively. At the time when I computed the test, the calculated test-statistic was -4.2298 which was less that the 1% critical value of -3.4313 (and less that the critical values at 5% and 10%), indicating the the butterfly 2-5-10 is mean reverting (although students of Statistics might argue that the test rejected the hypothesis that the Time Series is a random walk). The p-value corresponding to the test was 0.058% - so well below the 5% probability threshold usually considered as signal that the time series could be non mean reverting. Read [What is the meaning of p values and t values](https://stats.stackexchange.com/questions/31/what-is-the-meaning-of-p-values-and-t-values-in-statistical-tests) if you need refreshing your memory.\n",
        "\n",
        "While Statisticians might debate the merits of the tests, they provide some basis for us to go beyond the accumulated market memory of mean reverting signals.\n"
      ]
    },
    {
      "metadata": {
        "id": "OmDHx1r4tHjf",
        "colab_type": "text"
      },
      "cell_type": "markdown",
      "source": [
        "## How can I find Mean Reverting tradeable signals ?\n",
        "\n",
        "We could find some asset classes that are mean reverting by nature (some FX crosses like AUD/NZD for some periods of time), but the opportunity set increases when we can enter in linear combinations of asset classes, or portfolios of long/short assets that we can enter and exit over a period of time (without rebalancing - to minimize transaction costs).\n",
        "\n",
        "### Pairs trading\n",
        "The internet is already littered with examples of pairs trading (taking a couple of assets and finding if buying one versus selling the other weighted by a certain hedge ratio results in a mean reverting strategy), so instead of writing another example please read:\n",
        "* [Identifying Asset Pairs for Pairs Trading](http://hkopp.github.io/2017/07/identifying-asset-pairs-for-pairs-trading) - were the basic recipe of magically finding two stocks, do a linear regression on them to find the hedge ratio and test for mean reversion (as above) is explained, counterbalanced by \n",
        "* [Why I won't teach pair trading to my students](https://www.marketwatch.com/story/why-i-wont-teach-pair-trading-to-my-students-2012-10-01) (with real cases of blow-ups and a reminder never to forget the fundamental drivers which should drive the mean reversion),\n",
        "\n",
        "The basic recipe of using linear regressions to identify the hedge ratio suffers from the fact that the ratio will differ depending on which asset class is used as the explanatory variable (see [Effect of switching response and explanatory variable in simple linear regression](https://stats.stackexchange.com/questions/20553/effect-of-switching-response-and-explanatory-variable-in-simple-linear-regressio) - it turns our the formulas give different results unless all the points are exactly on the line~) annoys all the practictioners trying to find the correct ratio."
      ]
    },
    {
      "metadata": {
        "id": "N6MVN4VsY-4j",
        "colab_type": "code",
        "colab": {
          "autoexec": {
            "startup": false,
            "wait_interval": 0
          },
          "base_uri": "https://localhost:8080/",
          "height": 488
        },
        "outputId": "3bf7eaf8-da5c-4a9f-c47f-208695fbc5e2",
        "executionInfo": {
          "status": "ok",
          "timestamp": 1524646082060,
          "user_tz": 0,
          "elapsed": 1194,
          "user": {
            "displayName": "GE Lr",
            "photoUrl": "https://lh3.googleusercontent.com/a/default-user=s128",
            "userId": "102764421838822582009"
          }
        }
      },
      "cell_type": "code",
      "source": [
        "\n",
        "wings_body = butterfly_ts.copy()\n",
        "\n",
        "\n",
        "# A common practicioner trick is to express the mean reverting signal as\n",
        "# a scatter of two spreads.\n",
        "\n",
        "# We start with the 'wings', which is just the average of the outlying \n",
        "# maturities (2y and 10y)\n",
        "wings_body['wings'] = (TimeSeries.dot([0.5, 0, 0.5]))\n",
        "# the fine line: the cointegration test requires the underlying time series\n",
        "# to be non-meanreverting, so we test them using adf.\n",
        "print ('wings adfuller p-value:',ts.adfuller(wings_body['wings'], 1)[1])\n",
        "# versus the body (5y)\n",
        "wings_body['body'] = (TimeSeries.dot([0, 1, 0]))\n",
        "print ('body adfuller p-value:',ts.adfuller(wings_body['body'], 1)[1])\n",
        "print ('if both the above p-values are > than 5% the series are not mean reverting')\n",
        "print ('and can be used in the cointegration test')\n",
        "# To plot the scatter with a line:\n",
        "import seaborn as sns\n",
        "sns.lmplot(x='wings',y='body',data=wings_body,fit_reg=True) \n",
        "#wings_body.plot(x = 'wings', y ='body', kind = 'scatter')\n",
        "\n",
        "import statsmodels.api as sm # import statsmodels \n",
        "\n",
        "X = wings_body[\"wings\"] ## X usually means our input variables (or independent variables)\n",
        "y = wings_body[\"body\"] ## Y usually means our output/dependent variable\n",
        "X = sm.add_constant(X) ## Intercept the model\n",
        "\n",
        "# body = beta_w * wings + constant_w\n",
        "model_yX = sm.OLS(y, X).fit() ## sm.OLS(output, input)\n",
        "\n",
        "# Print out the statistics\n",
        "print (\"Wings as explanatory variable have a beta_w of \", model_yX.params[1])\n",
        "\n",
        "# wings = beta_b * body + constant_b\n",
        "# Note the difference in argument order\n",
        "model_Xy = sm.OLS(X, y).fit() ## sm.OLS(output, input)\n",
        "\n",
        "# Print out the statistics\n",
        "print (\"Body as explanatory variable have a beta_b of \", model_Xy.params[1][0])\n",
        "print (\"and beta_w is not the inverse of the beta_b:  \", 1 / model_Xy.params[1][0])"
      ],
      "execution_count": 5,
      "outputs": [
        {
          "output_type": "stream",
          "text": [
            "('wings adfuller p-value:', 0.9085297904330644)\n",
            "('body adfuller p-value:', 0.8580163529036811)\n",
            "if both the above p-values are > than 5% the series are not mean reverting\n",
            "and can be used in the cointegration test\n",
            "('Wings as explanatory variable have a beta_w of ', 1.021748420069593)\n",
            "('Body as explanatory variable have a beta_b of ', 0.9864822135326092)\n",
            "('and beta_w is not the inverse of the beta_b:  ', 1.0137030209789424)\n"
          ],
          "name": "stdout"
        },
        {
          "output_type": "display_data",
          "data": {
            "image/png": "[encoded data removed]",
            "text/plain": [
              "<matplotlib.figure.Figure at 0x7f5467608650>"
            ]
          },
          "metadata": {
            "tags": []
          }
        }
      ]
    },
    {
      "metadata": {
        "id": "xe4ewK6vYel2",
        "colab_type": "text"
      },
      "cell_type": "markdown",
      "source": [
        "Here is where Statisticians introduced the concept of [cointegration](https://en.wikipedia.org/wiki/Cointegration) which a soothingly complicated name to say that if you can get a mean reverting series by linearly combining other series then you can call them cointegrated. The small print: the series have to be [Integrated of Order 1 I(1)](https://en.wikipedia.org/wiki/Order_of_integration) but luckily the ADF test checks for that. Some practicioners might skip this test (as it is not readily available in Excel or Bloomberg) and will 'visually' inspect the timeseries - if they look 'trending' then they will assume they are I(1).\n",
        "\n",
        "When you compare only two series, you can combine the linear regression plot + ADF test and call it [Engle Granger two step](https://en.wikipedia.org/wiki/Cointegration#Engle%E2%80%93Granger_two-step_method).\n",
        "\n",
        "\n",
        "\n",
        "### Using PCA\n",
        "\n",
        "As we saw above, linear regression can give slightly (or in some cases, big) hedge ratios (in cointegration you do not define one explanatory variable but use the set as a cointegrated set).\n",
        "\n",
        "That is why some practitioners have chosen the Principal Component Analysis (PCA) methods (as it is symmetrical) - the hedge ratio results are more 'intuitive' (as they do not depend on which asset you put first). \n",
        "\n",
        "Once PCA was found for pairs trading hedge ratios, it was normal that people would apply it to multiple simultaneous assets (like the term structure of rates!). \n",
        "\n",
        "I will briefly mention how PCA is used by some traders, but keep in mind that there is a 'proper' method (the [Johansen test](https://en.wikipedia.org/wiki/Johansen_test)) finely tuned to test for mean reversion of linear combinations of Time Series - I will explain it later on.\n",
        "\n",
        "For two assets, the PCA method which gives a linear fit solution that is symmetrical is"
      ]
    },
    {
      "metadata": {
        "id": "1tD9pfJdlp6N",
        "colab_type": "code",
        "colab": {
          "autoexec": {
            "startup": false,
            "wait_interval": 0
          },
          "base_uri": "https://localhost:8080/",
          "height": 34
        },
        "outputId": "d5894615-5d4b-49b2-c532-b5c9a74c8965",
        "executionInfo": {
          "status": "ok",
          "timestamp": 1524646082325,
          "user_tz": 0,
          "elapsed": 202,
          "user": {
            "displayName": "GE Lr",
            "photoUrl": "https://lh3.googleusercontent.com/a/default-user=s128",
            "userId": "102764421838822582009"
          }
        }
      },
      "cell_type": "code",
      "source": [
        "import numpy as np\n",
        "\n",
        "wings_body_pca = wings_body[['body', 'wings']]\n",
        "\n",
        "# Demean the time series (we only want the 'hedge ratio')\n",
        "TS = wings_body_pca - wings_body_pca.mean()\n",
        "\n",
        "# Trick: compute the covariance matrix on the levels\n",
        "# by doing this we are finding the linear combination which \n",
        "# return the signal with the lowest variance.\n",
        "# Many Statisticians would be horrified, as we are not doing \n",
        "# it on vectors of Normal Distribution. More on this later,\n",
        "# but it turns out this method fits a line with \n",
        "# symmetric errors.\n",
        "TScov = TS.cov()\n",
        "eig_val_sc, eig_vec_sc = np.linalg.eig(TScov)\n",
        "# Make a list of (eigenvalue, eigenvector) tuples\n",
        "eig_pairs = [(np.abs(eig_val_sc[i]), eig_vec_sc[:,i]) for i in range(len(eig_val_sc))]\n",
        "\n",
        "# Sort the (eigenvalue, eigenvector) tuples from high to low\n",
        "eig_pairs.sort(key=lambda x: x[0], reverse=True)\n",
        "\n",
        "# Select the eigenvector with the lowest eigenvalue\n",
        "# which corresponds to a signal with low variance\n",
        "eig_2 = eig_pairs[1][1]\n",
        "\n",
        "print (\"beta_pca :\",eig_2/np.min(eig_2))"
      ],
      "execution_count": 6,
      "outputs": [
        {
          "output_type": "stream",
          "text": [
            "('beta_pca :', array([ 1.        , -1.02371487]))\n"
          ],
          "name": "stdout"
        }
      ]
    },
    {
      "metadata": {
        "id": "owSB4sn8oi42",
        "colab_type": "text"
      },
      "cell_type": "markdown",
      "source": [
        "The 'symmetric' hedge ratio of 1.0238 is quite similar to the ones above, but at least does not bring uncertainty. \n",
        "\n",
        "Think of PCA as a method to find the axis of an ellipsoid that can fit the data (read [Wikipedia PCA](https://en.wikipedia.org/wiki/Principal_component_analysis#Intuition)) - it will work even if the data does not have a linear relationship and we can choose the axis (or 'eigenvector') with the lowest associated variance as a mean reverting candidate.\n",
        "\n",
        "Once the method was derived, it was not long before someone thought that the PCA could be extended to many assets. Instead of arbitrarily using the average of the rates they decided to use it for 3 (or even more) assets..."
      ]
    },
    {
      "metadata": {
        "id": "Kj0wLmhQpaco",
        "colab_type": "code",
        "colab": {
          "autoexec": {
            "startup": false,
            "wait_interval": 0
          },
          "base_uri": "https://localhost:8080/",
          "height": 302
        },
        "outputId": "c2a5c825-75e8-4ace-cd10-37154032ed53",
        "executionInfo": {
          "status": "ok",
          "timestamp": 1524646082960,
          "user_tz": 0,
          "elapsed": 549,
          "user": {
            "displayName": "GE Lr",
            "photoUrl": "https://lh3.googleusercontent.com/a/default-user=s128",
            "userId": "102764421838822582009"
          }
        }
      },
      "cell_type": "code",
      "source": [
        "\n",
        "\n",
        "# Demean the time series (we only want the 'hedge ratio')\n",
        "TS = TimeSeries - TimeSeries.mean()\n",
        "TScov = TS.cov()\n",
        "eig_val_sc, eig_vec_sc = np.linalg.eig(TScov)\n",
        "eig_pairs = [(np.abs(eig_val_sc[i]), eig_vec_sc[:,i]) for i in range(len(eig_val_sc))]\n",
        "eig_pairs.sort(key=lambda x: x[0], reverse=True)\n",
        "\n",
        "# Select the eigenvector with the lowest eigenvalue\n",
        "# which corresponds to a signal with low variance\n",
        "eig_3 = eig_pairs[2][1]\n",
        "\n",
        "# I normalize by the middle weights (5yr) and \n",
        "# multiply by 2\n",
        "pca_weights = 2 * eig_3/eig_3[1]\n",
        "print (\"PCA Weights :\",pca_weights)\n",
        "butterfly_ts['pca'] = (TS.dot(pca_weights)).dropna()\n",
        "butterfly_ts.plot()\n",
        "print (ts.adfuller(butterfly_ts['pca'], 1))"
      ],
      "execution_count": 7,
      "outputs": [
        {
          "output_type": "stream",
          "text": [
            "('PCA Weights :', array([-0.83415415,  2.        , -1.2585797 ]))\n",
            "(-5.096096472885668, 1.4274591049756593e-05, 1, 7082, {'5%': -2.8619482037068686, '1%': -3.43127370401273, '10%': -2.5669872827787867}, -30051.17828318908)\n"
          ],
          "name": "stdout"
        },
        {
          "output_type": "display_data",
          "data": {
            "image/png": "[encoded data removed]",
            "text/plain": [
              "<matplotlib.figure.Figure at 0x7f5466b1e290>"
            ]
          },
          "metadata": {
            "tags": []
          }
        }
      ]
    },
    {
      "metadata": {
        "id": "H_zBxRZvriGh",
        "colab_type": "text"
      },
      "cell_type": "markdown",
      "source": [
        "... which does look even more mean reverting than the 50-50 butterfly (look how the t-statistic of -5.075 is even more negative than the one we found before). When I ran the code the weight results were assymetric: -0.83 for the 2yr weight and -1.26 for the 10yr, which is not standard for discretionary traders. In practice, traders would prefer simple and liquid strategies instead of adding complication for the sake of small improvements.\n",
        "\n",
        "But a note of caution: while PCA seems to give nice mean reversion signals as result of the implicit variance minimization, it does not *assure* it will find them. Of course, we could marry PCA + the mean reversion test, but as it happens Econometricians derived the [Johansen Test](https://en.wikipedia.org/wiki/Johansen_test) as an all-in-one method that finds the mean reversion signals in multiple time series.\n",
        "\n",
        "### The 'right way': Johansen Test\n",
        "\n",
        "It is well beyond the purpose of this blog to explain how the Johansen Test works, please read [Johansen Test for Cointegatring Time Series Analysis](https://www.quantstart.com/articles/Johansen-Test-for-Cointegrating-Time-Series-Analysis-in-R) (or another academica literature). Furthermore, python does not include a common library (although you can use \"pip install johansen\" for one) which means the Google colaboratory does not support it. The below code might not work, so please take it with a pinch of salt, but when I ran it the test confirmed the presence of 1 linear relationship corresponding to weights [-0.8095,  2,         -1.2880] which were similar but not the same as the PCA weights found at the same time [-0.8323, 2, -1.2613] (remember, if you run this code you might get slightly different results as Quandl would have updated the time series).\n",
        "\n",
        "The big difference is that the Johansen test was designed to find out and test all the possible linear combinations that yield mean reverting processes, while PCA (as used above) tries to find signals with low variance which may turn out to be mean reverting. \n",
        "\n"
      ]
    },
    {
      "metadata": {
        "id": "SgvQgjSA9Ap_",
        "colab_type": "code",
        "colab": {
          "autoexec": {
            "startup": false,
            "wait_interval": 0
          },
          "base_uri": "https://localhost:8080/",
          "height": 340
        },
        "outputId": "5e34e8ce-a92f-4095-93d0-f56caa6d01fb",
        "executionInfo": {
          "status": "ok",
          "timestamp": 1524646086131,
          "user_tz": 0,
          "elapsed": 3111,
          "user": {
            "displayName": "GE Lr",
            "photoUrl": "https://lh3.googleusercontent.com/a/default-user=s128",
            "userId": "102764421838822582009"
          }
        }
      },
      "cell_type": "code",
      "source": [
        "!pip install johansen\n",
        "from johansen import Johansen\n",
        "#\n",
        "x = TimeSeries.dropna().as_matrix()\n",
        "x_centered = x - np.mean(x, axis=0)\n",
        "\n",
        "# Because this library is not standard, you need to read\n",
        "# the code itself to find out that\n",
        "# significance_level = 2 means the test will use 99% confidence level,\n",
        "# model = 2 means \"This case should be used if\n",
        "#            the input time series have linear trends but the cointegrating\n",
        "#            relations are not expected to have linear trends.\"\n",
        "johansen = Johansen(x_centered, model=2, significance_level=2)\n",
        "eigenvectors, r = johansen.johansen()\n",
        "\n",
        "# r will have the set of linear combinations that yield \n",
        "# mean reverting processes at confidence 99%\n",
        "for i in r:\n",
        "  vec = eigenvectors[:, i]\n",
        "  vec_min = np.min(np.abs(vec))\n",
        "  vec = 2 * vec / vec[1]\n",
        "\n",
        "  print (\"The\",i,\"th cointegrating relation: {}\".format(vec))\n",
        "\n",
        "  "
      ],
      "execution_count": 8,
      "outputs": [
        {
          "output_type": "stream",
          "text": [
            "Collecting johansen\n",
            "  Downloading https://files.pythonhosted.org/packages/c4/e4/f5cc4a3657ed82a1068fc33cff2e465c24d291e6afe270e56b97f5dfed01/johansen-0.0.4.tar.gz\n",
            "Requirement already satisfied: scipy>=0.18.0 in /usr/local/lib/python2.7/dist-packages (from johansen)\n",
            "Requirement already satisfied: statsmodels>=0.6.1 in /usr/local/lib/python2.7/dist-packages (from johansen)\n",
            "Requirement already satisfied: numpy>=1.11.1 in /usr/local/lib/python2.7/dist-packages (from johansen)\n",
            "Requirement already satisfied: pandas>=0.18.1 in /usr/local/lib/python2.7/dist-packages (from johansen)\n",
            "Requirement already satisfied: patsy in /usr/local/lib/python2.7/dist-packages (from statsmodels>=0.6.1->johansen)\n",
            "Requirement already satisfied: pytz>=2011k in /usr/local/lib/python2.7/dist-packages (from pandas>=0.18.1->johansen)\n",
            "Requirement already satisfied: python-dateutil in /usr/local/lib/python2.7/dist-packages (from pandas>=0.18.1->johansen)\n",
            "Requirement already satisfied: six in /usr/local/lib/python2.7/dist-packages (from patsy->statsmodels>=0.6.1->johansen)\n",
            "Building wheels for collected packages: johansen\n",
            "  Running setup.py bdist_wheel for johansen ... \u001b[?25l-\b \bdone\n",
            "\u001b[?25h  Stored in directory: /content/.cache/pip/wheels/29/4a/ea/9a38d9ff2246e7a710488e8eaa22da457614a6f639979a59b4\n",
            "Successfully built johansen\n",
            "Installing collected packages: johansen\n",
            "Successfully installed johansen-0.0.4\n",
            "\u001b[33mYou are using pip version 9.0.3, however version 10.0.1 is available.\n",
            "You should consider upgrading via the 'pip install --upgrade pip' command.\u001b[0m\n",
            "('The', 0, 'th cointegrating relation: [-0.80924969  2.         -1.28828583]')\n"
          ],
          "name": "stdout"
        }
      ]
    },
    {
      "metadata": {
        "id": "pMUZxayxMRMF",
        "colab_type": "text"
      },
      "cell_type": "markdown",
      "source": [
        "### Bringing it all together\n",
        "\n",
        "If you have read this so far, I recommend you read the following 'drain the lake to fish' approach to pair trading: [Efficient Pair Selection for Pair-Trading Strategies](https://www.maths.ox.ac.uk/system/files/attachments/593233.pdf) (but remember that you might get nasty surprises if you neglect the fundamental story).\n",
        "\n",
        "In the [next post](https://colab.research.google.com/drive/1QNtBrFLsn7sqayEKgJVXg0UJz1JNYgVI) I will flesh out a ful example on the Term Structure of US rates to highlight the differences between PCA and the Johansen test in a case with multiple time series."
      ]
    }
  ]
}